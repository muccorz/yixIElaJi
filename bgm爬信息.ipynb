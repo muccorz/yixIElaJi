{
 "cells": [
  {
   "cell_type": "code",
   "execution_count": null,
   "id": "ca860f17",
   "metadata": {},
   "outputs": [],
   "source": [
    "from bs4 import BeautifulSoup \n",
    "path = '/Users/mucc/Desktop/bgm_book.html'\n",
    "htmlfile = open(path, 'r', encoding='utf-8')\n",
    "htmlhandle = htmlfile.read()"
   ]
  },
  {
   "cell_type": "code",
   "execution_count": null,
   "id": "8ba262c5",
   "metadata": {},
   "outputs": [],
   "source": [
    "soup = BeautifulSoup(htmlhandle, 'html.parser')"
   ]
  },
  {
   "cell_type": "markdown",
   "id": "a364a1ea",
   "metadata": {},
   "source": [
    "前24个重复的 多抓了一遍第一页"
   ]
  },
  {
   "cell_type": "code",
   "execution_count": null,
   "id": "10e06322",
   "metadata": {},
   "outputs": [],
   "source": [
    "nameList = soup.find_all(\"h3\")\n",
    "commentList = soup.find_all(\"div\", class_=\"item\")\n",
    "noDiv = []\n",
    "for i in range(len(commentList)):  \n",
    "    a = commentList[i].get_text()\n",
    "    noDiv.append(a)\n",
    "print(len(noDiv))\n",
    "print(len(nameList))\n"
   ]
  },
  {
   "cell_type": "code",
   "execution_count": null,
   "id": "6597af15",
   "metadata": {},
   "outputs": [],
   "source": [
    "dakuang = soup.findAll('li', class_= 'item')"
   ]
  },
  {
   "cell_type": "code",
   "execution_count": null,
   "id": "dacd6dae",
   "metadata": {},
   "outputs": [],
   "source": [
    "\n",
    "    \n",
    "a = dakuang[1].find('a', class_='l').get('href').split('/').pop()\n",
    "#.\n",
    "b = dakuang[0].find('h3').find('a').get_text()\n",
    "c = dakuang[0].find(\"div\", class_=\"text\").get_text()\n",
    "print(a)\n",
    "#"
   ]
  },
  {
   "cell_type": "code",
   "execution_count": null,
   "id": "ec7b71e2",
   "metadata": {},
   "outputs": [],
   "source": [
    "items = []\n",
    "for item in dakuang:\n",
    "    try:\n",
    "        items.append([item.find('a', class_='l').get('href').split('/').pop(),\n",
    "                     item.find('small').get_text(),\n",
    "                     item.find('h3').find('a').get_text(),\n",
    "                     item.find('span', class_='tip_j').get_text(),\n",
    "                     item.find(\"div\", class_=\"text\").get_text()\n",
    "                     ])\n",
    "    except AttributeError:\n",
    "        items.append([item.find('a', class_='l').get('href').split('/').pop(),\n",
    "                     item.find('h3').find('a').get_text(),\n",
    "                     \"需要手动\",\n",
    "                      item.find('span', class_='tip_j').get_text(),\n",
    "                     \"需要手动\"\n",
    "                     ])\n"
   ]
  },
  {
   "cell_type": "code",
   "execution_count": null,
   "id": "3828478f",
   "metadata": {},
   "outputs": [],
   "source": [
    "print(len(items))\n",
    "del items[0:24]\n",
    "print(items)"
   ]
  },
  {
   "cell_type": "code",
   "execution_count": null,
   "id": "e9e84679",
   "metadata": {},
   "outputs": [],
   "source": [
    "print(items[12])"
   ]
  },
  {
   "cell_type": "code",
   "execution_count": null,
   "id": "c8cfe55c",
   "metadata": {},
   "outputs": [],
   "source": [
    "import pandas as pd"
   ]
  },
  {
   "cell_type": "code",
   "execution_count": null,
   "id": "0848a3fa",
   "metadata": {},
   "outputs": [],
   "source": [
    "results = pd.DataFrame(items,columns = ['img_num', '原文标题', '中文标题', '标记日期','评论'])\n",
    "results.to_csv('bgm_book.csv', index = False, header= True)"
   ]
  },
  {
   "cell_type": "code",
   "execution_count": null,
   "id": "854eeb40",
   "metadata": {},
   "outputs": [],
   "source": []
  }
 ],
 "metadata": {
  "kernelspec": {
   "display_name": "Python 3",
   "language": "python",
   "name": "python3"
  },
  "language_info": {
   "codemirror_mode": {
    "name": "ipython",
    "version": 3
   },
   "file_extension": ".py",
   "mimetype": "text/x-python",
   "name": "python",
   "nbconvert_exporter": "python",
   "pygments_lexer": "ipython3",
   "version": "3.8.8"
  }
 },
 "nbformat": 4,
 "nbformat_minor": 5
}
