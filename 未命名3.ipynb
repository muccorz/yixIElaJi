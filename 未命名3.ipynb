{
 "cells": [
  {
   "cell_type": "code",
   "execution_count": null,
   "id": "f3c8a062",
   "metadata": {},
   "outputs": [],
   "source": [
    "#!/usr/bin/env python3\n",
    "# -*- coding: utf-8 -*-\n",
    "\"\"\"\n",
    "Created on Tue Oct 26 13:10:06 2021\n",
    "\n",
    "@author: mucc\n",
    "\"\"\"\n",
    "\n",
    "import tensorflow as tf\n",
    "from tensorflow import keras\n",
    "import numpy as np\n",
    "\n",
    "\n",
    "\n",
    "model = keras.Sequential([keras.layers.Dense(units=1, input_shape=[1])])\n",
    "model.compile(optimizer='sgd', loss = 'mean_squared_error')\n",
    "\n",
    "# =============================================================================\n",
    "# X = np.array([-1.0, 0.0, 1.0, 2.0, 3.0, 4.0])\n",
    "# Y = np.array([-3.0, -1.0, 1.0, 3.0, 5.0, 7.0])\n",
    "# =============================================================================\n",
    "\n",
    "X = np.array([-1.0, 0.0, 1.0, 2.0, 3.0, 4.0, 5.0])\n",
    "Y = np.array([-3.0, -1.0, 1.0, 3.0, 5.0, 7.0, 9.0])\n",
    "\n",
    "model.fit(X, Y, epochs=50)\n",
    " \n",
    "print(model.predict([101.0]))\n",
    "\n",
    "#num10 = -3 +（12-1）*2 = 22 -3 = 19\n",
    "#num100 = -3 + (102-1) * 2 = 202 - 3 = 199\n"
   ]
  }
 ],
 "metadata": {
  "kernelspec": {
   "display_name": "Python 3",
   "language": "python",
   "name": "python3"
  },
  "language_info": {
   "codemirror_mode": {
    "name": "ipython",
    "version": 3
   },
   "file_extension": ".py",
   "mimetype": "text/x-python",
   "name": "python",
   "nbconvert_exporter": "python",
   "pygments_lexer": "ipython3",
   "version": "3.8.8"
  }
 },
 "nbformat": 4,
 "nbformat_minor": 5
}
