{
 "cells": [
  {
   "cell_type": "code",
   "execution_count": 5,
   "id": "14d8efca",
   "metadata": {},
   "outputs": [],
   "source": [
    "import requests\n",
    "import json\n",
    "import re\n",
    "from lxml import etree\n",
    "\n",
    "from bs4 import BeautifulSoup\n",
    "import requests, re, time\n",
    "import pandas as pd\n",
    "\n",
    "from fake_useragent import UserAgent"
   ]
  },
  {
   "cell_type": "code",
   "execution_count": 19,
   "id": "998f6b9f",
   "metadata": {},
   "outputs": [
    {
     "name": "stdout",
     "output_type": "stream",
     "text": [
      "1\n",
      "2\n",
      "3\n",
      "4\n",
      "5\n",
      "6\n",
      "7\n",
      "8\n",
      "9\n",
      "10\n",
      "11\n",
      "12\n",
      "13\n",
      "14\n",
      "15\n",
      "16\n",
      "17\n",
      "18\n",
      "19\n",
      "20\n",
      "21\n",
      "22\n",
      "23\n",
      "24\n",
      "25\n",
      "26\n",
      "27\n",
      "28\n",
      "29\n",
      "30\n",
      "31\n",
      "32\n",
      "又抓到了\n"
     ]
    }
   ],
   "source": [
    "headers = {\n",
    "'User-Agent': ua.random\n",
    "}\n",
    "'''\n",
    "keyW = input('enter a word:')\n",
    "data = {X\n",
    "    'kw' : keyW\n",
    "    }\n",
    "'''\n",
    "    \n",
    "\n",
    "url = 'https://bgm.tv/book/list/uks_ask/collect'\n",
    "a = ''\n",
    "\n",
    "for page in range(1,33):\n",
    "    page = str(page)\n",
    "    print(page)\n",
    "    param = {\n",
    "            'page': page\n",
    "#                 'sort': 'time',\n",
    "#                 'rating': 'all',\n",
    "#                 'filter': 'all',\n",
    "#                 'mode': 'grid'\n",
    "        }\n",
    "\n",
    "    response = requests.get(url=url, params=param, headers = headers)\n",
    "    page_text = a + response.text\n",
    "    a = page_text\n",
    "        \n",
    "\n",
    "    \n",
    "with open('uks_book.html', 'w', encoding = 'ISO-8859-1') as fp:\n",
    "     fp.write(page_text)\n",
    "\n",
    "print('又抓到了')\n",
    "\n",
    "\n",
    "\n",
    "\n",
    "    \n",
    "#        c = tree.xpath('//div[@class=\"grid-view\"]//div[@class=\"info\"][i]//li[4]/span/text()')\n",
    "#        list1.append(c)\n",
    "\n"
   ]
  },
  {
   "cell_type": "code",
   "execution_count": null,
   "id": "a284045d",
   "metadata": {},
   "outputs": [],
   "source": []
  }
 ],
 "metadata": {
  "kernelspec": {
   "display_name": "Python 3",
   "language": "python",
   "name": "python3"
  },
  "language_info": {
   "codemirror_mode": {
    "name": "ipython",
    "version": 3
   },
   "file_extension": ".py",
   "mimetype": "text/x-python",
   "name": "python",
   "nbconvert_exporter": "python",
   "pygments_lexer": "ipython3",
   "version": "3.8.8"
  }
 },
 "nbformat": 4,
 "nbformat_minor": 5
}
