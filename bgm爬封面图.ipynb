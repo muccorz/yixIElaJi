{
 "cells": [
  {
   "cell_type": "code",
   "execution_count": null,
   "id": "fa60503b",
   "metadata": {},
   "outputs": [],
   "source": [
    "from bs4 import BeautifulSoup \n",
    "path = '/Users/mucc/Desktop/bgm_music.html'\n",
    "htmlfile = open(path, 'r', encoding='utf-8')\n",
    "htmlhandle = htmlfile.read()"
   ]
  },
  {
   "cell_type": "code",
   "execution_count": null,
   "id": "c518d34e",
   "metadata": {},
   "outputs": [],
   "source": [
    "soup = BeautifulSoup(htmlhandle, 'html.parser')"
   ]
  },
  {
   "cell_type": "code",
   "execution_count": null,
   "id": "2d5f7468",
   "metadata": {},
   "outputs": [],
   "source": [
    "nameList = soup.find_all(\"h3\")\n",
    "urlList = []\n",
    "for name in nameList:\n",
    "    aList = name.find(\"a\")\n",
    "    url = 'https://bgm.tv'+aList.get('href')\n",
    "    urlList.append(url)\n",
    "print(urlList)"
   ]
  },
  {
   "cell_type": "code",
   "execution_count": null,
   "id": "3e31c008",
   "metadata": {},
   "outputs": [],
   "source": [
    "print(urlList[26])\n",
    "print(urlList[2])\n",
    "print(urlList[27])\n",
    "print(urlList[3])\n",
    "print(urlList[28])\n",
    "print(urlList[4])"
   ]
  },
  {
   "cell_type": "code",
   "execution_count": null,
   "id": "18988272",
   "metadata": {},
   "outputs": [],
   "source": [
    "print(len(urlList))"
   ]
  },
  {
   "cell_type": "code",
   "execution_count": null,
   "id": "5ef951ed",
   "metadata": {},
   "outputs": [],
   "source": [
    "del urlList[:24]\n",
    "print(len(urlList))"
   ]
  },
  {
   "cell_type": "code",
   "execution_count": null,
   "id": "e402b3f3",
   "metadata": {},
   "outputs": [],
   "source": [
    "print(urlList)"
   ]
  },
  {
   "cell_type": "code",
   "execution_count": null,
   "id": "3d51b016",
   "metadata": {},
   "outputs": [],
   "source": [
    "import time\n",
    "import requests\n",
    "import random\n",
    "from fake_useragent import UserAgent\n",
    "import urllib\n"
   ]
  },
  {
   "cell_type": "code",
   "execution_count": null,
   "id": "86bda305",
   "metadata": {},
   "outputs": [],
   "source": [
    "ua = UserAgent()"
   ]
  },
  {
   "cell_type": "code",
   "execution_count": null,
   "id": "77b984aa",
   "metadata": {
    "scrolled": false
   },
   "outputs": [],
   "source": [
    "for i in range(len(urlList)):\n",
    "    url = urlList[i]\n",
    "    header = {'User-Agent':ua.random}\n",
    "    resp = requests.get(url=url,headers = header)\n",
    "    resp.encoding = \"UTF-8\"\n",
    "    main_page = BeautifulSoup(resp.text, \"html.parser\")\n",
    "    \n",
    "    try:\n",
    "        linklist = \"https:\"+main_page.find(\"div\",class_=\"infobox\").find(\"a\").get('href')\n",
    "        img_src = requests.get(linklist)\n",
    "        pic_name = url.split(\"/\")\n",
    "        last_name = pic_name.pop()\n",
    "        pic=img_src.content\n",
    "        with open(last_name+ '.jpg', 'wb') as fp:\n",
    "            fp.write(pic)\n",
    "        \n",
    "        print(linklist)\n",
    "    except Exception:\n",
    "        print(url+\"抓取失败\")\n",
    "        \n",
    "    print(\"已完成\", i+1, \"张\")\n",
    "    time.sleep(3)"
   ]
  },
  {
   "cell_type": "markdown",
   "id": "acd9992e",
   "metadata": {},
   "source": [
    "bgm爬图"
   ]
  }
 ],
 "metadata": {
  "kernelspec": {
   "display_name": "Python 3",
   "language": "python",
   "name": "python3"
  },
  "language_info": {
   "codemirror_mode": {
    "name": "ipython",
    "version": 3
   },
   "file_extension": ".py",
   "mimetype": "text/x-python",
   "name": "python",
   "nbconvert_exporter": "python",
   "pygments_lexer": "ipython3",
   "version": "3.8.8"
  }
 },
 "nbformat": 4,
 "nbformat_minor": 5
}
