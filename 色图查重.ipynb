{
 "cells": [
  {
   "cell_type": "code",
   "execution_count": null,
   "id": "a68fec52",
   "metadata": {},
   "outputs": [],
   "source": [
    "from imagededup.methods import PHash\n",
    "import os\n",
    "import sys\n",
    "import os.path\n",
    "from shutil import copy\n",
    "from PIL import Image\n",
    "import shutil\n",
    "import matplotlib.pyplot as plt \n",
    "import matplotlib.image as mpimg \n",
    "import numpy as np"
   ]
  },
  {
   "cell_type": "code",
   "execution_count": null,
   "id": "963946c8",
   "metadata": {},
   "outputs": [],
   "source": [
    "dirname_read=\"/Users/mucc/Desktop/gkd\"  # 注意后面的斜杠\n",
    "dirname_write=\"/Users/mucc/Desktop/gkd/jpg\"\n",
    "names_all=os.listdir(dirname_read)\n",
    "\n",
    "def file_filter(f):\n",
    "    if f[-4:] in ['.jpg']:\n",
    "        return True\n",
    "    else:\n",
    "        return False\n",
    "\n",
    "picture_nmmes = list(filter(file_filter, names_all))\n",
    "\n",
    "print(picture_nmmes)\n",
    "print(len(picture_nmmes))\n",
    "print(dirname_read)\n",
    "for i in picture_nmmes:\n",
    "    new_obj_name = i\n",
    "    print(new_obj_name)\n",
    "    shutil.move(dirname_read + '/' + new_obj_name, dirname_write + '/' + new_obj_name)\n",
    "    \n",
    "#摘出来所有jpg"
   ]
  },
  {
   "cell_type": "code",
   "execution_count": null,
   "id": "9a977048",
   "metadata": {},
   "outputs": [],
   "source": [
    "phasher = PHash()\n",
    "\n",
    "# 生成图像目录中所有图像的二值hash编码\n",
    "encodings = phasher.encode_images(image_dir='/Users/mucc/Desktop/gkd/jpg')\n",
    "\n",
    "# find_duplicates方法 对已编码图像寻找重复图像\n",
    "duplicates = phasher.find_duplicates(encoding_map=encodings)\n",
    "\n",
    "\n",
    "# 绘制出指定图片的相同照片\n"
   ]
  },
  {
   "cell_type": "code",
   "execution_count": null,
   "id": "ee4621f6",
   "metadata": {
    "scrolled": true
   },
   "outputs": [],
   "source": [
    "from imagededup.utils import plot_duplicates\n",
    "path = os.walk(\"/Users/mucc/Desktop/gkd/jpg\") \n",
    "for path,dir_list,file_list in path:  \n",
    "    for file_name in file_list:  \n",
    "        print(file_name)\n",
    "        try:\n",
    "            plot_duplicates(image_dir='/Users/mucc/Desktop/gkd/jpg',duplicate_map=duplicates,filename=file_name)\n",
    "        except AssertionError:\n",
    "            print(\"没有重复 好图\")\n",
    "\n",
    "        finally:\n",
    "            print(\"奶黄让写的\")\n",
    "            \n",
    "#逐行打印看有没有重复图 有的话行内显示了"
   ]
  },
  {
   "cell_type": "code",
   "execution_count": null,
   "id": "c86e37d8",
   "metadata": {
    "scrolled": true
   },
   "outputs": [],
   "source": [
    "duplicates = phasher.find_duplicates(encoding_map=encodings)\n",
    "for key in list(duplicates.keys()):\n",
    "        if not duplicates.get(key):\n",
    "            del duplicates[key]\n",
    "#print(duplicates['88.jpg'])\n",
    "#生成重复结果字典"
   ]
  },
  {
   "cell_type": "code",
   "execution_count": null,
   "id": "5edbdf63",
   "metadata": {},
   "outputs": [],
   "source": [
    "listEach = []\n",
    "for each in duplicates:\n",
    "    linshi = each\n",
    "    linshi = []\n",
    "    linshi.append(each)\n",
    "    for i in duplicates[each]:\n",
    "        linshi.append(i)\n",
    "    print(linshi)\n",
    "    listEach.append(linshi)\n",
    "print(listEach)\n",
    "#字典转换成逐行列表 置入大列表"
   ]
  },
  {
   "cell_type": "code",
   "execution_count": null,
   "id": "9752b89b",
   "metadata": {},
   "outputs": [],
   "source": [
    "#res = list(set(map(lambda i: tuple(sorted(i)), listEach)))\n",
    "res = list(set(tuple(sorted(sub)) for sub in listEach))\n",
    "print(\"一共找到 \"+str(len(res))+\" 组重复图片\")\n",
    "for i in range(len(res)):\n",
    "    print(res[i])\n",
    " #   print(\"\\n\")\n",
    "#列表内部查重 去重 打印结果"
   ]
  },
  {
   "cell_type": "markdown",
   "id": "05df4356",
   "metadata": {},
   "source": [
    "### 这步非常危险 手一定要稳\n",
    "不要突然按回车之类的\n",
    "### 没有检测到输入值的话会报错\n",
    "而且不能从断点处继续操作\n",
    "<br>\n",
    "你输入的数字是【想保留第x张】<br>\n",
    "想保留第1张就输入1这样<br>\n",
    "### 如果想都留着不想删 就输入一个其他数字 比如100\n",
    "比张数多就行"
   ]
  },
  {
   "cell_type": "code",
   "execution_count": null,
   "id": "80c5a7c0",
   "metadata": {
    "scrolled": true
   },
   "outputs": [],
   "source": [
    "N=1\n",
    "M=3\n",
    "\n",
    "for j in range(len(res)):\n",
    "    print(\"选择你想要保留的图\")\n",
    "    for i in range(len(res[j])):\n",
    "        path='/Users/mucc/Desktop/gkd/jpg/'+res[j][i]\n",
    "        img = plt.imread(path)\n",
    "        plt.subplot(N,M,i+1)#表示第i张图片，下标只能从1开始，不能从0，\n",
    "        plt.imshow(img)\n",
    "        #下面两行是消除每张图片自己单独的横纵坐标，不然每张图片会有单独的横纵坐标，影响美观\n",
    "        plt.xticks([])\n",
    "        plt.yticks([])\n",
    "    plt.show()\n",
    "    m = int(input(\"输入要留的\"))-1\n",
    "    print(\"你选择保留第 \", m+1 , \"张\")\n",
    "    try:\n",
    "        for i in res[j]:\n",
    "            a = res[j][m]\n",
    "            if a != i:\n",
    "                path2 = '/Users/mucc/Desktop/gkd/jpg/' + i\n",
    "                os.remove(path2)\n",
    "    except IndexError:\n",
    "        print(\"不想删除就继续摁\")\n",
    "   \n"
   ]
  },
  {
   "cell_type": "code",
   "execution_count": null,
   "id": "426c0b0b",
   "metadata": {},
   "outputs": [],
   "source": []
  }
 ],
 "metadata": {
  "kernelspec": {
   "display_name": "Python [conda env:img_dup] *",
   "language": "python",
   "name": "conda-env-img_dup-py"
  },
  "language_info": {
   "codemirror_mode": {
    "name": "ipython",
    "version": 3
   },
   "file_extension": ".py",
   "mimetype": "text/x-python",
   "name": "python",
   "nbconvert_exporter": "python",
   "pygments_lexer": "ipython3",
   "version": "3.6.13"
  }
 },
 "nbformat": 4,
 "nbformat_minor": 5
}
